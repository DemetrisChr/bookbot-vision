{
 "cells": [
  {
   "cell_type": "markdown",
   "metadata": {},
   "source": [
    "## Find the closest label to read results"
   ]
  },
  {
   "cell_type": "code",
   "execution_count": 242,
   "metadata": {},
   "outputs": [],
   "source": [
    "# Test cases\n",
    "# test4 only works if remove \\n\n",
    "test1 = \"4th\"\n",
    "test2 = \",1025Nor.\"\n",
    "test3 = \" 444Ash\"\n",
    "test4 = \"'WULCSNYYau.\"\n",
    "test5 = \"394\\nH85\\n\\n\\nCar.\"\n",
    "test51 = \"394H85Car.\"\n",
    "test6 = \"5 a peseeea, VARIALASM, aby PULITWS IN THE ANFEBELLUM REPUBLIC\"\n",
    "test7 = \". £i i oe\""
   ]
  },
  {
   "cell_type": "code",
   "execution_count": 229,
   "metadata": {},
   "outputs": [
    {
     "name": "stdout",
     "output_type": "stream",
     "text": [
      "['F128.65.C3Coo', 'F229Vau.', 'F334.S4Swa.', 'E441Ash.', 'F1025Nor.', 'F394.H857Car.']\n",
      "['F128.65.C3Coo', 'F229Vau......', 'F334.S4Swa...', 'E441Ash......', 'F1025Nor.....', 'F394.H857Car.']\n",
      "('F128.65.C3Coo', 'A description of the New York Central Park')\n"
     ]
    }
   ],
   "source": [
    "# Format the true label list (database)\n",
    "label_codes = [\"F\\n128\\n.65\\n.C3\\nCoo\", \"F\\n229\\nVau.\", \"F\\n334\\n.S4\\nSwa.\", \"E\\n441\\nAsh.\", \"F\\n1025\\nNor.\", \"F\\n394\\n.H857\\nCar.\"]\n",
    "label_codes = [code.replace('\\n', '') for code in label_codes]\n",
    "print(label_codes)\n",
    "maxlength = max([len(code) for code in label_codes])\n",
    "label_codes = [code.ljust(maxlength, \".\") for code in label_codes]\n",
    "print(label_codes)\n",
    "book_names = [\"A description of the New York Central Park\",\n",
    "             \"American genesis\",\n",
    "             \"The Selma Campaign\",\n",
    "             \"Slavery, Capitalism, and Politics\",\n",
    "             \"Northern Exposures\",\n",
    "             \"Red Scare\"]\n",
    "database = list(zip(label_codes, book_names))\n",
    "print(database[0])"
   ]
  },
  {
   "cell_type": "code",
   "execution_count": 200,
   "metadata": {},
   "outputs": [
    {
     "data": {
      "text/plain": [
       "'F128.65.C3Coo'"
      ]
     },
     "execution_count": 200,
     "metadata": {},
     "output_type": "execute_result"
    }
   ],
   "source": [
    "database[0][0]"
   ]
  },
  {
   "cell_type": "code",
   "execution_count": 201,
   "metadata": {},
   "outputs": [],
   "source": [
    "# Calculates the minimum edit distance between s1 and s2\n",
    "def levenshtein(s1, s2):\n",
    "    \n",
    "    insertion_cost = 1 # Insertions cost one\n",
    "    deletion_cost = 0 # Deleting is free\n",
    "    substitution_cost = 1 # Substitution same cost as sum\n",
    "    \n",
    "    if len(s1) < len(s2):\n",
    "        return levenshtein(s2, s1)\n",
    "\n",
    "    # len(s1) >= len(s2)\n",
    "    if len(s2) == 0:\n",
    "        return len(s1)\n",
    "\n",
    "    previous_row = range(len(s2) + 1)\n",
    "    for i, c1 in enumerate(s1):\n",
    "        current_row = [i + 1]\n",
    "        for j, c2 in enumerate(s2):\n",
    "            insertions = previous_row[j + 1] + insertion_cost\n",
    "            deletions = current_row[j] + deletion_cost\n",
    "            substitutions = previous_row[j] + (c1 != c2) *  substitution_cost\n",
    "            current_row.append(min(insertions, deletions, substitutions))\n",
    "        previous_row = current_row\n",
    "    \n",
    "    return previous_row[-1]"
   ]
  },
  {
   "cell_type": "code",
   "execution_count": 202,
   "metadata": {},
   "outputs": [
    {
     "name": "stdout",
     "output_type": "stream",
     "text": [
      "F394.H857Car.\n",
      "5\n"
     ]
    }
   ],
   "source": [
    "# For testing\n",
    "min_cost = 1000\n",
    "min_code = \"\"\n",
    "for code in label_codes:\n",
    "    MED = levenshtein(code,test5)\n",
    "    if(MED<min_cost):\n",
    "        min_cost = MED\n",
    "        min_code = code\n",
    "print(min_code)\n",
    "print(min_cost)"
   ]
  },
  {
   "cell_type": "code",
   "execution_count": 244,
   "metadata": {},
   "outputs": [],
   "source": [
    "# Returns the name of the book which is closest match to input read_label from the datbase\n",
    "def closest_label_match(read_label):\n",
    "    min_cost = 1000\n",
    "    min_index = -1\n",
    "    for i in range(0,len(database)):\n",
    "        code = database[i][0]\n",
    "        MED = levenshtein(code,read_label)\n",
    "        if(MED<min_cost):\n",
    "            min_cost = MED\n",
    "            min_index = i\n",
    "    print(min_cost)\n",
    "    # Cutoff point 20, if higher cost empty name is returned\n",
    "    if(min_cost>20):\n",
    "        return \"\", 1000\n",
    "    return database[min_index][1], min_cost"
   ]
  },
  {
   "cell_type": "code",
   "execution_count": 243,
   "metadata": {},
   "outputs": [
    {
     "name": "stdout",
     "output_type": "stream",
     "text": [
      "11\n"
     ]
    },
    {
     "data": {
      "text/plain": [
       "'A description of the New York Central Park'"
      ]
     },
     "execution_count": 243,
     "metadata": {},
     "output_type": "execute_result"
    }
   ],
   "source": [
    "closest_label_match(test7)"
   ]
  },
  {
   "cell_type": "code",
   "execution_count": null,
   "metadata": {},
   "outputs": [],
   "source": []
  }
 ],
 "metadata": {
  "kernelspec": {
   "display_name": "Python 3",
   "language": "python",
   "name": "python3"
  },
  "language_info": {
   "codemirror_mode": {
    "name": "ipython",
    "version": 3
   },
   "file_extension": ".py",
   "mimetype": "text/x-python",
   "name": "python",
   "nbconvert_exporter": "python",
   "pygments_lexer": "ipython3",
   "version": "3.6.8"
  }
 },
 "nbformat": 4,
 "nbformat_minor": 2
}
